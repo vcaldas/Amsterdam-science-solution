{
 "cells": [
  {
   "cell_type": "markdown",
   "metadata": {},
   "source": [
    "## Amsterdam Science Puzzle\n",
    "\n",
    "The following puzzle was posted by the [Amsterdam Science](http://amsterdamscience.org/) magazine.\n",
    "Alhtough it is meant to be solved in a different way, I choose to write few codes to help me with that. \n",
    "\n",
    "Here is the problem:\n",
    "<img src=\"puzzle.png\">\n",
    "\n",
    "Over the next steps, you will follow what I did. If you have suggestions to improve the solution, let me know!\n"
   ]
  },
  {
   "cell_type": "markdown",
   "metadata": {},
   "source": [
    "## 1 - English Word's List\n",
    "    I found this [github repository](https://github.com/dwyl/english-words) several files containing a list of English words. For this example, I am just considering words that do not contain numbers.  \n"
   ]
  },
  {
   "cell_type": "code",
   "execution_count": 41,
   "metadata": {},
   "outputs": [
    {
     "name": "stdout",
     "output_type": "stream",
     "text": [
      "File exists. Skipping download\n",
      "The list of words contain 370099 words\n"
     ]
    }
   ],
   "source": [
    "# import libraries\n",
    "import requests\n",
    "import os.path\n",
    "\n",
    "# Path to list of words\n",
    "url = 'https://raw.githubusercontent.com/dwyl/english-words/master/words_alpha.txt'\n",
    "\n",
    "def download_data():\n",
    "    if os.path.isfile('./words_alpha.txt'):\n",
    "        print('File exists. Skipping download')\n",
    "    else:\n",
    "        r = requests.get(url, stream=True)\n",
    "        with open('words_alpha.txt', 'wb') as f:\n",
    "            for chunk in r.iter_content():\n",
    "                f.write(chunk)\n",
    "        print(\"Download finished.\")\n",
    "\n",
    "## Load all words\n",
    "def load_words():\n",
    "    download_data()\n",
    "\n",
    "    with open('words_alpha.txt') as word_file:\n",
    "        valid_words = set(word_file.read().split())\n",
    "\n",
    "    return valid_words\n",
    "\n",
    "english_words = load_words()\n",
    "print('The list of words contain {} words'.format(sum(1 for line in english_words)))\n",
    "    "
   ]
  },
  {
   "cell_type": "markdown",
   "metadata": {},
   "source": [
    "That's quite a large list of words. However, for this problem in particular we just need the words that contain 5 or 8 characters.\n",
    "\n",
    "## Selecting words with 5 or 8 characters\n"
   ]
  },
  {
   "cell_type": "code",
   "execution_count": 42,
   "metadata": {},
   "outputs": [
    {
     "name": "stdout",
     "output_type": "stream",
     "text": [
      "The new list contain 15918 words with 5 letters\n",
      "The new list contain 51626 words with 8 letters\n"
     ]
    }
   ],
   "source": [
    "def select_words_by_size(list_of_words, size):\n",
    "    new_list = [word for word in english_words if len (word) == size]\n",
    "    print('The new list contain {} words with {} letters'.format(sum(1 for line in new_list), size))\n",
    "    return new_list\n",
    "\n",
    "words_5_letters = select_words_by_size(english_words, 5)\n",
    "words_8_letters = select_words_by_size(english_words, 8)"
   ]
  },
  {
   "cell_type": "markdown",
   "metadata": {
    "collapsed": true
   },
   "source": [
    "## Finding the new words\n",
    "\n",
    "The problem gives a list of words containing 4 letters. To each of these words, we should be able to add 1 more leeter and form a new word by rearranging the letters.\n",
    "\n"
   ]
  },
  {
   "cell_type": "code",
   "execution_count": 44,
   "metadata": {},
   "outputs": [],
   "source": [
    "# List of words provided by the problem.\n",
    "\n",
    "words = ['thin',\n",
    "        'rind',\n",
    "        'site',\n",
    "        'toga',\n",
    "        'swat',\n",
    "        'mail',\n",
    "        'city',\n",
    "        'deny']\n"
   ]
  },
  {
   "cell_type": "markdown",
   "metadata": {},
   "source": [
    "Now, we have to find all the 5-letter words that contain the 4-letter words. "
   ]
  },
  {
   "cell_type": "code",
   "execution_count": 54,
   "metadata": {},
   "outputs": [
    {
     "name": "stdout",
     "output_type": "stream",
     "text": [
      "We found 5 possibilites for the word city\n",
      "We found 20 possibilites for the word deny\n",
      "We found 30 possibilites for the word swat\n",
      "We found 20 possibilites for the word toga\n",
      "We found 17 possibilites for the word thin\n",
      "We found 37 possibilites for the word mail\n",
      "We found 19 possibilites for the word rind\n",
      "We found 87 possibilites for the word site\n"
     ]
    }
   ],
   "source": [
    "def matching_5_words(words, words_5_letters):\n",
    "    new_words = {}\n",
    "\n",
    "    # Create a dictionary to make the next loops smaller\n",
    "    for word in words:\n",
    "        letters = list (word)\n",
    "        # x = []\n",
    "        x = [word for word in words_5_letters if all (letter in word for letter in letters)]\n",
    "        new_words[word] = x\n",
    "    return new_words\n",
    "\n",
    "new_words = matching_5_words(words, words_5_letters)\n",
    "\n",
    "for key, value in new_words.items():\n",
    "    print(\"We found {} possibilites for the word {}\".format(len(value), key))\n"
   ]
  },
  {
   "cell_type": "markdown",
   "metadata": {},
   "source": [
    "That's quite a large ammount of possibilities! Just for the word **city**, we can for 5 new words by adding a letter. For words like **site**, we can form 87 new 5-letter wokrds.\n",
    "\n",
    "Let's check the solution for **city** words:"
   ]
  },
  {
   "cell_type": "code",
   "execution_count": 56,
   "metadata": {},
   "outputs": [
    {
     "name": "stdout",
     "output_type": "stream",
     "text": [
      "['itchy', 'typic', 'lytic', 'dicty', 'ticky']\n"
     ]
    }
   ],
   "source": [
    "print(new_words['city'])"
   ]
  },
  {
   "cell_type": "markdown",
   "metadata": {},
   "source": [
    "However, this is part of the solution. We want to know also which letter was added to the 4-letter word to form the 5-letter word."
   ]
  },
  {
   "cell_type": "code",
   "execution_count": 70,
   "metadata": {},
   "outputs": [
    {
     "name": "stdout",
     "output_type": "stream",
     "text": [
      "CITY\n",
      "d : ['dicty']\n",
      "h : ['itchy']\n",
      "k : ['ticky']\n",
      "l : ['lytic']\n",
      "p : ['typic']\n",
      "DENY\n",
      "a : ['denay']\n",
      "b : ['bendy']\n",
      "d : ['neddy']\n",
      "e : ['deeny', 'needy']\n",
      "f : ['fendy']\n",
      "h : ['hynde', 'hendy']\n",
      "k : ['kendy']\n",
      "l : ['dynel']\n",
      "m : ['mendy']\n",
      "o : ['doney', 'doyen']\n",
      "s : ['snyed', 'dynes']\n",
      "t : ['deynt', 'tyned', 'denty']\n",
      "u : ['undye']\n",
      "w : ['wendy']\n",
      "SWAT\n",
      "a : ['wasat']\n",
      "d : ['datsw', 'dawts']\n",
      "e : ['tawse', 'twaes', 'sweat', 'waste', 'etwas', 'awest']\n",
      "f : ['wafts']\n",
      "h : ['swath', 'whats', 'thaws']\n",
      "i : ['waist', 'swati', 'waits']\n",
      "n : ['wants', 'stawn', 'wasnt']\n",
      "r : ['wrast', 'swart', 'warst', 'straw', 'starw', 'warts']\n",
      "s : ['swats', 'wasts']\n",
      "t : ['twats', 'watts']\n",
      "y : ['wasty']\n",
      "TOGA\n",
      "b : ['tabog']\n",
      "c : ['cagot']\n",
      "e : ['togae']\n",
      "f : ['fagot']\n",
      "h : ['gotha']\n",
      "l : ['gloat']\n",
      "m : ['magot']\n",
      "n : ['tango', 'tonga']\n",
      "r : ['groat', 'gator', 'argot', 'gotra']\n",
      "s : ['goats', 'togas', 'stoga']\n",
      "t : ['gotta']\n",
      "u : ['guato']\n",
      "v : ['gavot']\n",
      "y : ['goaty']\n",
      "THIN\n",
      "a : ['ahint', 'hiant', 'tahin']\n",
      "c : ['nitch', 'nicht', 'chint']\n",
      "e : ['thine', 'thein']\n",
      "g : ['thing', 'night']\n",
      "k : ['think']\n",
      "n : ['ninth']\n",
      "o : ['othin']\n",
      "s : ['hints', 'thins', 'thisn']\n",
      "u : ['unhit']\n",
      "MAIL\n",
      "a : ['alima', 'lamia', 'ilama']\n",
      "b : ['limba']\n",
      "c : ['malic', 'claim', 'clima']\n",
      "d : ['aldim']\n",
      "e : ['malie', 'maile', 'melia', 'email']\n",
      "h : ['hamli', 'milha']\n",
      "i : ['ilima', 'milia']\n",
      "k : ['malik']\n",
      "l : ['milla', 'maill']\n",
      "m : ['limma']\n",
      "n : ['liman', 'lamin', 'milan']\n",
      "p : ['milpa']\n",
      "r : ['rimal', 'armil', 'marli']\n",
      "s : ['islam', 'limas', 'simal', 'ismal', 'mails', 'salmi']\n",
      "t : ['tamil']\n",
      "u : ['miaul', 'aumil']\n",
      "x : ['limax']\n",
      "RIND\n",
      "a : ['indra', 'darin', 'dinar', 'nadir', 'drain', 'ranid']\n",
      "e : ['rinde', 'diner', 'riden']\n",
      "g : ['grind']\n",
      "i : ['indri']\n",
      "k : ['drink']\n",
      "n : ['drinn']\n",
      "o : ['nidor']\n",
      "s : ['rinds']\n",
      "u : ['diurn', 'unrid', 'rundi']\n",
      "y : ['rindy']\n",
      "SITE\n",
      "a : ['taise', 'saite']\n",
      "b : ['btise', 'besit', 'bites', 'biset', 'betis']\n",
      "c : ['cites', 'cesti']\n",
      "d : ['dites', 'edits', 'idest', 'diets', 'deist', 'steid', 'tides', 'stied', 'sited']\n",
      "e : ['teise']\n",
      "f : ['fetis', 'feist', 'stife']\n",
      "g : ['geist']\n",
      "h : ['heist', 'sithe']\n",
      "k : ['skite', 'keist', 'kites', 'siket', 'tikes']\n",
      "l : ['istle', 'tiles', 'stile', 'islet', 'slite', 'liest', 'lites']\n",
      "m : ['items', 'times', 'metis', 'smite', 'mites', 'stime', 'emits']\n",
      "n : ['senti', 'neist', 'snite', 'stine', 'senit', 'tines', 'stein', 'tiens', 'tsine', 'inset']\n",
      "o : ['sotie', 'toise']\n",
      "p : ['piest', 'epist', 'septi', 'stipe', 'spite', 'piste']\n",
      "r : ['iters', 'rites', 'stire', 'resit', 'tiers', 'tries', 'steri', 'reist', 'tires']\n",
      "s : ['sesti', 'siest', 'sties', 'sites']\n",
      "t : ['stite']\n",
      "u : ['etuis', 'suite']\n",
      "v : ['stive']\n",
      "w : ['wites', 'wiste']\n",
      "x : ['exits', 'exist', 'sixte']\n",
      "y : ['seity', 'yetis']\n",
      "z : ['zeist']\n"
     ]
    }
   ],
   "source": [
    "import string\n",
    "from collections import Counter\n",
    "from collections import defaultdict\n",
    "\n",
    "added_letters = {}\n",
    "\n",
    "def match_words(word1, word2):\n",
    "    bag = Counter (word1)\n",
    "    bag.subtract (Counter (word2))\n",
    "\n",
    "    if all (v == 0 for v in bag.values ()):\n",
    "        return True\n",
    "    else:\n",
    "        return False\n",
    "    \n",
    "for key, value in new_words.items ():\n",
    "    print (key.upper ())\n",
    "    valid_letters = []\n",
    "\n",
    "    for char in string.ascii_lowercase:\n",
    "        expanded_word = key+char\n",
    "\n",
    "        # After adding a letter to the end, get the list of matching words\n",
    "        matching_words = [word for word in value if all (letter in word for letter in list(expanded_word))]\n",
    "\n",
    "        matches_per_letter = [word for word in matching_words if match_words (expanded_word, word)]\n",
    "        if len(matches_per_letter) > 0 :\n",
    "            valid_letters.append(char)\n",
    "            print(\"{} : {}\".format(char, matches_per_letter))\n",
    "\n",
    "    added_letters[key] = valid_letters\n"
   ]
  },
  {
   "cell_type": "code",
   "execution_count": 71,
   "metadata": {},
   "outputs": [
    {
     "name": "stdout",
     "output_type": "stream",
     "text": [
      "23 possibilities for  site  : ['a', 'b', 'c', 'd', 'e', 'f', 'g', 'h', 'k', 'l', 'm', 'n', 'o', 'p', 'r', 's', 't', 'u', 'v', 'w', 'x', 'y', 'z']\n",
      "5 possibilities for  city  : ['d', 'h', 'k', 'l', 'p']\n",
      "11 possibilities for  swat  : ['a', 'd', 'e', 'f', 'h', 'i', 'n', 'r', 's', 't', 'y']\n",
      "14 possibilities for  toga  : ['b', 'c', 'e', 'f', 'h', 'l', 'm', 'n', 'r', 's', 't', 'u', 'v', 'y']\n",
      "14 possibilities for  deny  : ['a', 'b', 'd', 'e', 'f', 'h', 'k', 'l', 'm', 'o', 's', 't', 'u', 'w']\n",
      "17 possibilities for  mail  : ['a', 'b', 'c', 'd', 'e', 'h', 'i', 'k', 'l', 'm', 'n', 'p', 'r', 's', 't', 'u', 'x']\n",
      "10 possibilities for  rind  : ['a', 'e', 'g', 'i', 'k', 'n', 'o', 's', 'u', 'y']\n",
      "9 possibilities for  thin  : ['a', 'c', 'e', 'g', 'k', 'n', 'o', 's', 'u']\n"
     ]
    }
   ],
   "source": [
    "# Counting and checking the combinations\n",
    "for key, value in added_letters.items ():\n",
    "    print(\"{} possibilities for  {}  : {}\".format(len(value), key, value))"
   ]
  },
  {
   "cell_type": "markdown",
   "metadata": {},
   "source": [
    "### Partial solution\n",
    "\n",
    "Ok! We found all possible inputs for the boxes at the end. In principle, you could think in 103 words that might fit the first condition of the problem. That's quite a lot already for a \"simple\" puzzle.\n",
    "\n",
    "If you try then to find the new 8-letter word by simply combining the added letter, that will be a massive effort. There are 379348200 combinations possible! Yes. Almost 380 million combinations. \n",
    "\n",
    "Sure. Not all these combinations produce a valid word. And our brain would filter many possibilities reducing a lot the timing an effort. \n",
    "\n",
    "### What are the valid words then?\n",
    "\n",
    "We have to plug all these results together. The letters forming the 5-letter word from the 4-letter word and the anagrams.\n",
    "\n",
    "The solution is quite simple for the computer. We will look for all the words in the anagrams list that start with a letter added to **thin**. \n",
    "\n",
    "This means that all 8-letter words that start with 'a', 'c', 'e', 'g', 'k', 'n', 'o', 's', 'u' will be kept.\n",
    "Then, from the previous step, we get kept all letters with 'a', 'e', 'g', 'i', 'k', 'n', 'o', 's', 'u', 'y' in the second position. This is the possible additions for  **rind**. \n",
    "\n",
    "\n",
    "We do that for all words, and we should have our answer."
   ]
  },
  {
   "cell_type": "code",
   "execution_count": 142,
   "metadata": {},
   "outputs": [
    {
     "name": "stdout",
     "output_type": "stream",
     "text": [
      "We start with 51626 8-letter words\n",
      "23475 8-letter words after filtering with added letters to thin\n",
      "13418 8-letter words after filtering with added letters to rind\n",
      "12944 8-letter words after filtering with added letters to site\n",
      "7438 8-letter words after filtering with added letters to toga\n",
      "4897 8-letter words after filtering with added letters to swat\n",
      "4155 8-letter words after filtering with added letters to mail\n",
      "526 8-letter words after filtering with added letters to city\n",
      "384 8-letter words after filtering with added letters to deny\n"
     ]
    }
   ],
   "source": [
    "def filter_words(list_words, position, list_letters):\n",
    "    answers = []\n",
    "    for word in list_words:\n",
    "        for l in list_letters:\n",
    "            if word[position] == l:\n",
    "                answers.append (word)\n",
    "\n",
    "    return answers\n",
    "\n",
    "\n",
    "def letter_in_position(list_words, words):\n",
    "    print('We start with {} 8-letter words'.format(len(list_words)))\n",
    "    \n",
    "    for index, word in enumerate(words):\n",
    "        list_words = filter_words(list_words, index, added_letters[word])\n",
    "        print('{} 8-letter words after filtering with added letters to {}'.format(len(list_words), word))\n",
    "       \n",
    "    return list_words\n",
    "\n",
    "answer_8_letter = letter_in_position(words_8_letters, words )\n"
   ]
  },
  {
   "cell_type": "markdown",
   "metadata": {},
   "source": [
    "There are still 384 words!!! \n",
    "\n",
    "\n",
    "## 8-letter Anagrams\n",
    "\n",
    "\n",
    "Finally, the letters added should form an Anagram. By definition, Anagram is a word, phrase, or name formed by rearranging the letters of another, such as spar, formed from rasp.\n",
    "\n",
    "Check on [Wikipedia](https://en.wikipedia.org/wiki/Anagram) for more information.\n",
    "\n",
    "Let's filter our pool of 8-letter words by selection all that are anagrams! "
   ]
  },
  {
   "cell_type": "code",
   "execution_count": 143,
   "metadata": {},
   "outputs": [
    {
     "name": "stdout",
     "output_type": "stream",
     "text": [
      "We found 6 anagrams\n"
     ]
    }
   ],
   "source": [
    "def get_anagrams(source):\n",
    "    ## Populate dictionary with word combinations\n",
    "    d = {}\n",
    "    for word in source:\n",
    "        key = \"\".join(sorted(word))\n",
    "        if key in d.keys():  \n",
    "            d[key].append(word)  \n",
    "        else:  \n",
    "            d[key] = [word]  \n",
    "    \n",
    "    ## Get the combinations that just yeld 1 word, ie. not anagrams\n",
    "    keys = []\n",
    "    count = 0\n",
    "    for key, value in d.items():\n",
    "        if(len(value)==1):\n",
    "            keys.append(key)\n",
    "        else:\n",
    "            count += len(value)\n",
    "    \n",
    "    #remove from the list and return the anagrams\n",
    "    for k in keys:\n",
    "        del d[k]\n",
    "        \n",
    "\n",
    "    return d, count\n",
    "\n",
    "# Get the dictionary of anagrams\n",
    "anagrams , count = get_anagrams(answer_8_letter)\n",
    "print('We found {} anagrams'.format(count))"
   ]
  },
  {
   "cell_type": "markdown",
   "metadata": {},
   "source": [
    "## The Solution\n",
    "\n",
    "Not bad. We finally found just 6 anagrams that are solutions. Let's check then:"
   ]
  },
  {
   "cell_type": "code",
   "execution_count": 146,
   "metadata": {},
   "outputs": [
    {
     "data": {
      "text/plain": [
       "{'aabeells': ['sealable', 'saleable'],\n",
       " 'aabeelnr': ['earnable', 'nearable'],\n",
       " 'aeillnss': ['ainsells', 'sensilla']}"
      ]
     },
     "execution_count": 146,
     "metadata": {},
     "output_type": "execute_result"
    }
   ],
   "source": [
    "anagrams"
   ]
  },
  {
   "cell_type": "markdown",
   "metadata": {},
   "source": [
    "So, this means that, you could form any of these words and have the problem right.\n",
    "\n",
    "Below, I'll provide one full example, but remind that we found thousands of possible combinations. \n",
    "\n",
    "| 4-letter Word | Letter Added | 5-letter word| Anagram |\n",
    "|------|--------------|----------|---------|\n",
    "| Thin | e            | Ahint    | n       |\n",
    "| Rind | a            | Drain    | e       |\n",
    "| Site | r            | Tires    | a       |\n",
    "| Toga | n            | Tango    | r       |\n",
    "| Swat | a            | Wasat    | a       |\n",
    "| Mail | b            | Limba    | b       |\n",
    "| City | l            | Lytic    | l       |\n",
    "| Deny | e            | Needy    | e       |"
   ]
  },
  {
   "cell_type": "markdown",
   "metadata": {},
   "source": [
    "## Final comments\n",
    "\n",
    "I didn't imagine to find so many possible combinations. These answers are sure limited by the list of words I used and many other solutions are possible. Which ones did you find?\n"
   ]
  },
  {
   "cell_type": "markdown",
   "metadata": {},
   "source": []
  },
  {
   "cell_type": "code",
   "execution_count": null,
   "metadata": {},
   "outputs": [],
   "source": []
  }
 ],
 "metadata": {
  "kernelspec": {
   "display_name": "Python 3",
   "language": "python",
   "name": "python3"
  },
  "language_info": {
   "codemirror_mode": {
    "name": "ipython",
    "version": 3
   },
   "file_extension": ".py",
   "mimetype": "text/x-python",
   "name": "python",
   "nbconvert_exporter": "python",
   "pygments_lexer": "ipython3",
   "version": "3.5.5"
  }
 },
 "nbformat": 4,
 "nbformat_minor": 2
}
